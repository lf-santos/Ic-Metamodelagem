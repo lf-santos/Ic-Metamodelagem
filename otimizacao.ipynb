{
 "cells": [
  {
   "cell_type": "code",
   "execution_count": 1,
   "metadata": {},
   "outputs": [
    {
     "name": "stderr",
     "output_type": "stream",
     "text": [
      "c:\\Users\\LuanNogueira\\Downloads\\Ic-Metamodelagem\\pibicvenv\\lib\\site-packages\\tqdm\\auto.py:21: TqdmWarning: IProgress not found. Please update jupyter and ipywidgets. See https://ipywidgets.readthedocs.io/en/stable/user_install.html\n",
      "  from .autonotebook import tqdm as notebook_tqdm\n"
     ]
    }
   ],
   "source": [
    "import pysis.flowsheet as sim_f\n",
    "from scipy import optimize\n",
    "import pandas as pd\n",
    "import sklearn\n",
    "import scipy\n",
    "import sklearn.ensemble as forest\n",
    "import matplotlib.pyplot as plt\n",
    "import numpy as np\n",
    "import sklearn.metrics as metrics\n",
    "import sklearn.gaussian_process as kriging\n",
    "import seaborn as sns\n",
    "from tensorflow import keras\n",
    "from sklearn import preprocessing\n",
    "from sklearn.pipeline import Pipeline, TransformerMixin, FeatureUnion\n",
    "from sklearn.preprocessing import *\n",
    "from feature_engine import wrappers,outliers\n",
    "\n",
    "# from feature_engine import\n",
    "from sklearn.compose import ColumnTransformer\n",
    "from sklearn import model_selection\n",
    "from sklearn.gaussian_process import GaussianProcessRegressor\n",
    "from feature_engine.creation import MathFeatures, RelativeFeatures\n",
    "from sklearn.model_selection import GridSearchCV, RandomizedSearchCV\n",
    "from sklearn.feature_selection import RFECV\n",
    "import optuna\n",
    "import json\n",
    "import pickle"
   ]
  },
  {
   "cell_type": "code",
   "execution_count": 2,
   "metadata": {},
   "outputs": [],
   "source": [
    "from tensorflow import keras\n",
    "from scikeras.wrappers import KerasRegressor\n",
    "from sklearn.ensemble import (\n",
    "    RandomForestRegressor,\n",
    "    GradientBoostingRegressor,\n",
    "    AdaBoostRegressor,\n",
    ")\n",
    "from sklearn.gaussian_process import GaussianProcessRegressor\n",
    "from sklearn.svm import SVR\n",
    "from xgboost import XGBRegressor\n",
    "from sklearn.gaussian_process.kernels import RBF\n",
    "from lightgbm import LGBMRegressor"
   ]
  },
  {
   "cell_type": "code",
   "execution_count": 4,
   "metadata": {},
   "outputs": [],
   "source": [
    "class ColumnExtractor(TransformerMixin):\n",
    "    def __init__(self,cols:str):\n",
    "        self.cols=cols\n",
    "\n",
    "    def transform(self,X:pd.DataFrame,y=None):\n",
    "        self.Xcol=X.columns\n",
    "        return self.Xcol \n",
    "\n",
    "    def fit(self,X,y=None):\n",
    "        self.x=X\n",
    "        return self\n",
    "class PandasConversor(TransformerMixin):\n",
    "    def __init__(self):\n",
    "        pass\n",
    "    def fit(self,X,y=None):\n",
    "        self.x=X\n",
    "        return self\n",
    "    def transform(self,X:pd.DataFrame,y=None):\n",
    "        self.xpandas=pd.DataFrame(X)\n"
   ]
  },
  {
   "cell_type": "code",
   "execution_count": 6,
   "metadata": {},
   "outputs": [],
   "source": [
    "def rna_model(\n",
    "    features_in=87,\n",
    "    hidden_layer_units=32,\n",
    "    optimizer=keras.optimizers.Adam,\n",
    "    optimizer__learning_rate=0.001,\n",
    "    dropout=0.4,\n",
    "):\n",
    "    rna_model = keras.models.Sequential()\n",
    "    rna_model.add(keras.layers.Input(shape=(features_in,)))\n",
    "    rna_model.add(keras.layers.Dense(units=(features_in + 12), activation=\"relu\"))\n",
    "    rna_model.add(keras.layers.Dense(units=hidden_layer_units))\n",
    "\n",
    "    rna_model.add(keras.layers.Dropout(rate=dropout))\n",
    "\n",
    "    rna_model.add(keras.layers.LeakyReLU())\n",
    "    rna_model.add(keras.layers.Dense(units=hidden_layer_units))\n",
    "\n",
    "    rna_model.add(keras.layers.LeakyReLU())\n",
    "\n",
    "    rna_model.add(keras.layers.Dropout(rate=dropout))\n",
    "    rna_model.add(keras.layers.Dense(units=1, activation=\"linear\"))\n",
    "\n",
    "    rna_model.compile(\n",
    "        loss=\"mean_squared_error\",\n",
    "        optimizer=optimizer(learning_rate=optimizer__learning_rate),\n",
    "    )\n",
    "\n",
    "    return rna_model"
   ]
  },
  {
   "cell_type": "code",
   "execution_count": 23,
   "metadata": {},
   "outputs": [],
   "source": [
    "dfx = pd.DataFrame(\n",
    "    pd.read_csv(\n",
    "        filepath_or_buffer=\"DadosMetamodelagemX4.csv\",\n",
    "        delimiter=\",\",\n",
    "        index_col=False,\n",
    "        names=[\n",
    "            \"ReactionTemperature\",\n",
    "            \"H2FlowRate\",\n",
    "            \"SplitsValues\",\n",
    "            \"RefluxRatio\",\n",
    "            \"ReactorVolume\",\n",
    "            \"FeedPressure\",\n",
    "            \"NANx\",\n",
    "        ],\n",
    "    )\n",
    ")\n",
    "dfy = pd.DataFrame(\n",
    "    pd.read_csv(\n",
    "        \"DadosMetamodelagemY4.csv\",\n",
    "        delimiter=\",\",\n",
    "        names=[\n",
    "            \"ISBL\",\n",
    "            \"CustoMateriaPrima\",\n",
    "            \"CustoUtilidades\",\n",
    "            \"Methanol\",\n",
    "            \"IsValid\",\n",
    "            \"IsConverged\",\n",
    "            \"StreamConvergeance\",\n",
    "            \"NANy\",\n",
    "        ],\n",
    "    )\n",
    ")\n",
    "dfy[\"Methanol\"] = dfy[\"Methanol\"] * 46.031 * 575 / 1000\n",
    "\n",
    "\n",
    "dft = pd.DataFrame.join(dfx, dfy)\n",
    "dft.drop(dft.loc[dft[\"StreamConvergeance\"] == False].index, inplace=True)\n",
    "dft.drop(\n",
    "    columns=[\"NANx\", \"NANy\", \"IsValid\", \"StreamConvergeance\", \"IsConverged\"],\n",
    "    inplace=True,\n",
    ")\n",
    "dft.reset_index(inplace=True, drop=True)\n",
    "dft.astype(dtype=float, copy=True)\n",
    "dft[\"ISBL\"] = dft[\"ISBL\"].astype(float)\n",
    "\n",
    "df_isbl = dft[\"ISBL\"]\n",
    "df_osbl = df_isbl * 0.35\n",
    "df_opex = dft[\"CustoMateriaPrima\"] + dft[\"CustoUtilidades\"]\n",
    "df_capex = (\n",
    "    (\n",
    "        df_isbl\n",
    "        + df_osbl\n",
    "        + 0.20 * (df_osbl + df_isbl)\n",
    "        + 0.30 * (df_osbl + df_isbl)\n",
    "        + 0.15 * (df_osbl + df_isbl)\n",
    "    )\n",
    "    / 12\n",
    "    / 30\n",
    "    / 24\n",
    ")\n",
    "df_profit = pd.DataFrame(dft[\"Methanol\"] - df_capex - df_opex, columns=[\"Profit\"])\n",
    "\n",
    "to_drop = [\"ISBL\", \"CustoMateriaPrima\", \"CustoUtilidades\", \"Methanol\"]\n",
    "dft.drop(labels=to_drop, inplace=True, axis=1)\n",
    "dft = dft.join(df_profit)\n",
    "\n",
    "target = [\"Profit\"]\n",
    "features = [\n",
    "    \"ReactionTemperature\",\n",
    "    \"H2FlowRate\",\n",
    "    \"SplitsValues\",\n",
    "    \"RefluxRatio\",\n",
    "    \"ReactorVolume\",\n",
    "    \"FeedPressure\",\n",
    "]\n",
    "\n",
    "# dft.drop(dft[(dft[target]<-115000).values].index,axis=0,inplace=True)\n",
    "# dft.reset_index(inplace=True,drop=True)\n",
    "\n",
    "x_train, x_test, y_train, y_test = model_selection.train_test_split(\n",
    "    dft[features], dft[target], test_size=0.33\n",
    ")\n",
    "train_test_data_list = [x_train, x_test, y_train, y_test]\n",
    "for i in train_test_data_list:\n",
    "    i.reset_index(inplace=True, drop=True)\n",
    "df_train = x_train.join(y_train)\n",
    "df_test = x_test.join(y_test)\n",
    "\n"
   ]
  },
  {
   "attachments": {},
   "cell_type": "markdown",
   "metadata": {},
   "source": [
    "Otimização"
   ]
  },
  {
   "cell_type": "code",
   "execution_count": 7,
   "metadata": {},
   "outputs": [],
   "source": [
    "with open('models.pkl', 'rb') as file:\n",
    "    models_dict=pickle.load(file)\n",
    "with open('target_transformer.pkl', 'rb') as file:\n",
    "    target_transformer_dict=pickle.load(file)\n"
   ]
  },
  {
   "cell_type": "code",
   "execution_count": 33,
   "metadata": {},
   "outputs": [
    {
     "data": {
      "text/html": [
       "<div>\n",
       "<style scoped>\n",
       "    .dataframe tbody tr th:only-of-type {\n",
       "        vertical-align: middle;\n",
       "    }\n",
       "\n",
       "    .dataframe tbody tr th {\n",
       "        vertical-align: top;\n",
       "    }\n",
       "\n",
       "    .dataframe thead th {\n",
       "        text-align: right;\n",
       "    }\n",
       "</style>\n",
       "<table border=\"1\" class=\"dataframe\">\n",
       "  <thead>\n",
       "    <tr style=\"text-align: right;\">\n",
       "      <th></th>\n",
       "      <th>ReactionTemperature</th>\n",
       "      <th>H2FlowRate</th>\n",
       "      <th>SplitsValues</th>\n",
       "      <th>RefluxRatio</th>\n",
       "      <th>ReactorVolume</th>\n",
       "      <th>FeedPressure</th>\n",
       "    </tr>\n",
       "  </thead>\n",
       "  <tbody>\n",
       "    <tr>\n",
       "      <th>250</th>\n",
       "      <td>202.884571</td>\n",
       "      <td>5232.476056</td>\n",
       "      <td>0.041994</td>\n",
       "      <td>1.270898</td>\n",
       "      <td>42.540867</td>\n",
       "      <td>4955.308814</td>\n",
       "    </tr>\n",
       "  </tbody>\n",
       "</table>\n",
       "</div>"
      ],
      "text/plain": [
       "     ReactionTemperature   H2FlowRate  SplitsValues  RefluxRatio  \\\n",
       "250           202.884571  5232.476056      0.041994     1.270898   \n",
       "\n",
       "     ReactorVolume  FeedPressure  \n",
       "250      42.540867   4955.308814  "
      ]
     },
     "execution_count": 33,
     "metadata": {},
     "output_type": "execute_result"
    }
   ],
   "source": [
    "x0=x_train[250:251]\n",
    "x0"
   ]
  },
  {
   "cell_type": "code",
   "execution_count": 34,
   "metadata": {},
   "outputs": [
    {
     "name": "stderr",
     "output_type": "stream",
     "text": [
      "C:\\Users\\LuanNogueira\\AppData\\Local\\Temp\\ipykernel_6668\\3158339568.py:2: DeprecationWarning: Use of `minimize` with `x0.ndim != 1` is deprecated. Currently, singleton dimensions will be removed from `x0`, but an error will be raised in SciPy 1.11.0.\n",
      "  optimize.minimize(fun,x0,method='BFGS')\n",
      "c:\\Users\\LuanNogueira\\Downloads\\Ic-Metamodelagem\\pibicvenv\\lib\\site-packages\\sklearn\\base.py:439: UserWarning: X does not have valid feature names, but StandardScaler was fitted with feature names\n",
      "  warnings.warn(\n",
      "c:\\Users\\LuanNogueira\\Downloads\\Ic-Metamodelagem\\pibicvenv\\lib\\site-packages\\sklearn\\base.py:439: UserWarning: X does not have valid feature names, but StandardScaler was fitted with feature names\n",
      "  warnings.warn(\n",
      "c:\\Users\\LuanNogueira\\Downloads\\Ic-Metamodelagem\\pibicvenv\\lib\\site-packages\\sklearn\\base.py:439: UserWarning: X does not have valid feature names, but StandardScaler was fitted with feature names\n",
      "  warnings.warn(\n",
      "c:\\Users\\LuanNogueira\\Downloads\\Ic-Metamodelagem\\pibicvenv\\lib\\site-packages\\sklearn\\base.py:439: UserWarning: X does not have valid feature names, but StandardScaler was fitted with feature names\n",
      "  warnings.warn(\n",
      "c:\\Users\\LuanNogueira\\Downloads\\Ic-Metamodelagem\\pibicvenv\\lib\\site-packages\\sklearn\\base.py:439: UserWarning: X does not have valid feature names, but StandardScaler was fitted with feature names\n",
      "  warnings.warn(\n",
      "c:\\Users\\LuanNogueira\\Downloads\\Ic-Metamodelagem\\pibicvenv\\lib\\site-packages\\sklearn\\base.py:439: UserWarning: X does not have valid feature names, but StandardScaler was fitted with feature names\n",
      "  warnings.warn(\n",
      "c:\\Users\\LuanNogueira\\Downloads\\Ic-Metamodelagem\\pibicvenv\\lib\\site-packages\\sklearn\\base.py:439: UserWarning: X does not have valid feature names, but StandardScaler was fitted with feature names\n",
      "  warnings.warn(\n",
      "c:\\Users\\LuanNogueira\\Downloads\\Ic-Metamodelagem\\pibicvenv\\lib\\site-packages\\sklearn\\base.py:439: UserWarning: X does not have valid feature names, but StandardScaler was fitted with feature names\n",
      "  warnings.warn(\n",
      "c:\\Users\\LuanNogueira\\Downloads\\Ic-Metamodelagem\\pibicvenv\\lib\\site-packages\\sklearn\\base.py:439: UserWarning: X does not have valid feature names, but StandardScaler was fitted with feature names\n",
      "  warnings.warn(\n",
      "c:\\Users\\LuanNogueira\\Downloads\\Ic-Metamodelagem\\pibicvenv\\lib\\site-packages\\sklearn\\base.py:439: UserWarning: X does not have valid feature names, but StandardScaler was fitted with feature names\n",
      "  warnings.warn(\n",
      "c:\\Users\\LuanNogueira\\Downloads\\Ic-Metamodelagem\\pibicvenv\\lib\\site-packages\\sklearn\\base.py:439: UserWarning: X does not have valid feature names, but StandardScaler was fitted with feature names\n",
      "  warnings.warn(\n",
      "c:\\Users\\LuanNogueira\\Downloads\\Ic-Metamodelagem\\pibicvenv\\lib\\site-packages\\sklearn\\base.py:439: UserWarning: X does not have valid feature names, but StandardScaler was fitted with feature names\n",
      "  warnings.warn(\n",
      "c:\\Users\\LuanNogueira\\Downloads\\Ic-Metamodelagem\\pibicvenv\\lib\\site-packages\\sklearn\\base.py:439: UserWarning: X does not have valid feature names, but StandardScaler was fitted with feature names\n",
      "  warnings.warn(\n",
      "c:\\Users\\LuanNogueira\\Downloads\\Ic-Metamodelagem\\pibicvenv\\lib\\site-packages\\sklearn\\base.py:439: UserWarning: X does not have valid feature names, but StandardScaler was fitted with feature names\n",
      "  warnings.warn(\n"
     ]
    },
    {
     "data": {
      "text/plain": [
       "  message: Optimization terminated successfully.\n",
       "  success: True\n",
       "   status: 0\n",
       "      fun: -373055296.0\n",
       "        x: [ 2.029e+02  5.232e+03 -9.162e-01  1.590e+00  4.254e+01\n",
       "             4.955e+03]\n",
       "      nit: 1\n",
       "      jac: [ 0.000e+00  0.000e+00  0.000e+00  0.000e+00  0.000e+00\n",
       "             0.000e+00]\n",
       " hess_inv: [[1 0 ... 0 0]\n",
       "            [0 1 ... 0 0]\n",
       "            ...\n",
       "            [0 0 ... 1 0]\n",
       "            [0 0 ... 0 1]]\n",
       "     nfev: 14\n",
       "     njev: 2"
      ]
     },
     "execution_count": 34,
     "metadata": {},
     "output_type": "execute_result"
    }
   ],
   "source": [
    "fun=lambda x:-(models_dict['RNA'].predict(np.array([x])))\n",
    "optimize.minimize(fun,x0,method='BFGS')"
   ]
  },
  {
   "cell_type": "code",
   "execution_count": 11,
   "metadata": {},
   "outputs": [
    {
     "name": "stderr",
     "output_type": "stream",
     "text": [
      "c:\\Users\\LuanNogueira\\Downloads\\Ic-Metamodelagem\\pibicvenv\\lib\\site-packages\\sklearn\\base.py:439: UserWarning: X does not have valid feature names, but StandardScaler was fitted with feature names\n",
      "  warnings.warn(\n"
     ]
    },
    {
     "ename": "ValueError",
     "evalue": "Expected 2D array, got 1D array instead:\narray=[1.83056123e+02 5.07881635e+03 2.12648319e-02 1.69041588e+00\n 4.25465416e+01 5.19478835e+03].\nReshape your data either using array.reshape(-1, 1) if your data has a single feature or array.reshape(1, -1) if it contains a single sample.",
     "output_type": "error",
     "traceback": [
      "\u001b[1;31m---------------------------------------------------------------------------\u001b[0m",
      "\u001b[1;31mValueError\u001b[0m                                Traceback (most recent call last)",
      "Cell \u001b[1;32mIn[11], line 1\u001b[0m\n\u001b[1;32m----> 1\u001b[0m models_dict[\u001b[39m'\u001b[39;49m\u001b[39mRNA\u001b[39;49m\u001b[39m'\u001b[39;49m]\u001b[39m.\u001b[39;49mpredict([\u001b[39m1.83056123e+02\u001b[39;49m, \u001b[39m5.07881635e+03\u001b[39;49m, \u001b[39m2.12648319e-02\u001b[39;49m, \u001b[39m1.69041588e+00\u001b[39;49m,\n\u001b[0;32m      2\u001b[0m         \u001b[39m4.25465416e+01\u001b[39;49m, \u001b[39m5.19478835e+03\u001b[39;49m])\n",
      "File \u001b[1;32mc:\\Users\\LuanNogueira\\Downloads\\Ic-Metamodelagem\\pibicvenv\\lib\\site-packages\\sklearn\\pipeline.py:480\u001b[0m, in \u001b[0;36mPipeline.predict\u001b[1;34m(self, X, **predict_params)\u001b[0m\n\u001b[0;32m    478\u001b[0m Xt \u001b[39m=\u001b[39m X\n\u001b[0;32m    479\u001b[0m \u001b[39mfor\u001b[39;00m _, name, transform \u001b[39min\u001b[39;00m \u001b[39mself\u001b[39m\u001b[39m.\u001b[39m_iter(with_final\u001b[39m=\u001b[39m\u001b[39mFalse\u001b[39;00m):\n\u001b[1;32m--> 480\u001b[0m     Xt \u001b[39m=\u001b[39m transform\u001b[39m.\u001b[39;49mtransform(Xt)\n\u001b[0;32m    481\u001b[0m \u001b[39mreturn\u001b[39;00m \u001b[39mself\u001b[39m\u001b[39m.\u001b[39msteps[\u001b[39m-\u001b[39m\u001b[39m1\u001b[39m][\u001b[39m1\u001b[39m]\u001b[39m.\u001b[39mpredict(Xt, \u001b[39m*\u001b[39m\u001b[39m*\u001b[39mpredict_params)\n",
      "File \u001b[1;32mc:\\Users\\LuanNogueira\\Downloads\\Ic-Metamodelagem\\pibicvenv\\lib\\site-packages\\sklearn\\utils\\_set_output.py:140\u001b[0m, in \u001b[0;36m_wrap_method_output.<locals>.wrapped\u001b[1;34m(self, X, *args, **kwargs)\u001b[0m\n\u001b[0;32m    138\u001b[0m \u001b[39m@wraps\u001b[39m(f)\n\u001b[0;32m    139\u001b[0m \u001b[39mdef\u001b[39;00m \u001b[39mwrapped\u001b[39m(\u001b[39mself\u001b[39m, X, \u001b[39m*\u001b[39margs, \u001b[39m*\u001b[39m\u001b[39m*\u001b[39mkwargs):\n\u001b[1;32m--> 140\u001b[0m     data_to_wrap \u001b[39m=\u001b[39m f(\u001b[39mself\u001b[39;49m, X, \u001b[39m*\u001b[39;49margs, \u001b[39m*\u001b[39;49m\u001b[39m*\u001b[39;49mkwargs)\n\u001b[0;32m    141\u001b[0m     \u001b[39mif\u001b[39;00m \u001b[39misinstance\u001b[39m(data_to_wrap, \u001b[39mtuple\u001b[39m):\n\u001b[0;32m    142\u001b[0m         \u001b[39m# only wrap the first output for cross decomposition\u001b[39;00m\n\u001b[0;32m    143\u001b[0m         \u001b[39mreturn\u001b[39;00m (\n\u001b[0;32m    144\u001b[0m             _wrap_data_with_container(method, data_to_wrap[\u001b[39m0\u001b[39m], X, \u001b[39mself\u001b[39m),\n\u001b[0;32m    145\u001b[0m             \u001b[39m*\u001b[39mdata_to_wrap[\u001b[39m1\u001b[39m:],\n\u001b[0;32m    146\u001b[0m         )\n",
      "File \u001b[1;32mc:\\Users\\LuanNogueira\\Downloads\\Ic-Metamodelagem\\pibicvenv\\lib\\site-packages\\sklearn\\preprocessing\\_data.py:992\u001b[0m, in \u001b[0;36mStandardScaler.transform\u001b[1;34m(self, X, copy)\u001b[0m\n\u001b[0;32m    989\u001b[0m check_is_fitted(\u001b[39mself\u001b[39m)\n\u001b[0;32m    991\u001b[0m copy \u001b[39m=\u001b[39m copy \u001b[39mif\u001b[39;00m copy \u001b[39mis\u001b[39;00m \u001b[39mnot\u001b[39;00m \u001b[39mNone\u001b[39;00m \u001b[39melse\u001b[39;00m \u001b[39mself\u001b[39m\u001b[39m.\u001b[39mcopy\n\u001b[1;32m--> 992\u001b[0m X \u001b[39m=\u001b[39m \u001b[39mself\u001b[39;49m\u001b[39m.\u001b[39;49m_validate_data(\n\u001b[0;32m    993\u001b[0m     X,\n\u001b[0;32m    994\u001b[0m     reset\u001b[39m=\u001b[39;49m\u001b[39mFalse\u001b[39;49;00m,\n\u001b[0;32m    995\u001b[0m     accept_sparse\u001b[39m=\u001b[39;49m\u001b[39m\"\u001b[39;49m\u001b[39mcsr\u001b[39;49m\u001b[39m\"\u001b[39;49m,\n\u001b[0;32m    996\u001b[0m     copy\u001b[39m=\u001b[39;49mcopy,\n\u001b[0;32m    997\u001b[0m     dtype\u001b[39m=\u001b[39;49mFLOAT_DTYPES,\n\u001b[0;32m    998\u001b[0m     force_all_finite\u001b[39m=\u001b[39;49m\u001b[39m\"\u001b[39;49m\u001b[39mallow-nan\u001b[39;49m\u001b[39m\"\u001b[39;49m,\n\u001b[0;32m    999\u001b[0m )\n\u001b[0;32m   1001\u001b[0m \u001b[39mif\u001b[39;00m sparse\u001b[39m.\u001b[39missparse(X):\n\u001b[0;32m   1002\u001b[0m     \u001b[39mif\u001b[39;00m \u001b[39mself\u001b[39m\u001b[39m.\u001b[39mwith_mean:\n",
      "File \u001b[1;32mc:\\Users\\LuanNogueira\\Downloads\\Ic-Metamodelagem\\pibicvenv\\lib\\site-packages\\sklearn\\base.py:565\u001b[0m, in \u001b[0;36mBaseEstimator._validate_data\u001b[1;34m(self, X, y, reset, validate_separately, **check_params)\u001b[0m\n\u001b[0;32m    563\u001b[0m     \u001b[39mraise\u001b[39;00m \u001b[39mValueError\u001b[39;00m(\u001b[39m\"\u001b[39m\u001b[39mValidation should be done on X, y or both.\u001b[39m\u001b[39m\"\u001b[39m)\n\u001b[0;32m    564\u001b[0m \u001b[39melif\u001b[39;00m \u001b[39mnot\u001b[39;00m no_val_X \u001b[39mand\u001b[39;00m no_val_y:\n\u001b[1;32m--> 565\u001b[0m     X \u001b[39m=\u001b[39m check_array(X, input_name\u001b[39m=\u001b[39;49m\u001b[39m\"\u001b[39;49m\u001b[39mX\u001b[39;49m\u001b[39m\"\u001b[39;49m, \u001b[39m*\u001b[39;49m\u001b[39m*\u001b[39;49mcheck_params)\n\u001b[0;32m    566\u001b[0m     out \u001b[39m=\u001b[39m X\n\u001b[0;32m    567\u001b[0m \u001b[39melif\u001b[39;00m no_val_X \u001b[39mand\u001b[39;00m \u001b[39mnot\u001b[39;00m no_val_y:\n",
      "File \u001b[1;32mc:\\Users\\LuanNogueira\\Downloads\\Ic-Metamodelagem\\pibicvenv\\lib\\site-packages\\sklearn\\utils\\validation.py:902\u001b[0m, in \u001b[0;36mcheck_array\u001b[1;34m(array, accept_sparse, accept_large_sparse, dtype, order, copy, force_all_finite, ensure_2d, allow_nd, ensure_min_samples, ensure_min_features, estimator, input_name)\u001b[0m\n\u001b[0;32m    900\u001b[0m     \u001b[39m# If input is 1D raise error\u001b[39;00m\n\u001b[0;32m    901\u001b[0m     \u001b[39mif\u001b[39;00m array\u001b[39m.\u001b[39mndim \u001b[39m==\u001b[39m \u001b[39m1\u001b[39m:\n\u001b[1;32m--> 902\u001b[0m         \u001b[39mraise\u001b[39;00m \u001b[39mValueError\u001b[39;00m(\n\u001b[0;32m    903\u001b[0m             \u001b[39m\"\u001b[39m\u001b[39mExpected 2D array, got 1D array instead:\u001b[39m\u001b[39m\\n\u001b[39;00m\u001b[39marray=\u001b[39m\u001b[39m{}\u001b[39;00m\u001b[39m.\u001b[39m\u001b[39m\\n\u001b[39;00m\u001b[39m\"\u001b[39m\n\u001b[0;32m    904\u001b[0m             \u001b[39m\"\u001b[39m\u001b[39mReshape your data either using array.reshape(-1, 1) if \u001b[39m\u001b[39m\"\u001b[39m\n\u001b[0;32m    905\u001b[0m             \u001b[39m\"\u001b[39m\u001b[39myour data has a single feature or array.reshape(1, -1) \u001b[39m\u001b[39m\"\u001b[39m\n\u001b[0;32m    906\u001b[0m             \u001b[39m\"\u001b[39m\u001b[39mif it contains a single sample.\u001b[39m\u001b[39m\"\u001b[39m\u001b[39m.\u001b[39mformat(array)\n\u001b[0;32m    907\u001b[0m         )\n\u001b[0;32m    909\u001b[0m \u001b[39mif\u001b[39;00m dtype_numeric \u001b[39mand\u001b[39;00m array\u001b[39m.\u001b[39mdtype\u001b[39m.\u001b[39mkind \u001b[39min\u001b[39;00m \u001b[39m\"\u001b[39m\u001b[39mUSV\u001b[39m\u001b[39m\"\u001b[39m:\n\u001b[0;32m    910\u001b[0m     \u001b[39mraise\u001b[39;00m \u001b[39mValueError\u001b[39;00m(\n\u001b[0;32m    911\u001b[0m         \u001b[39m\"\u001b[39m\u001b[39mdtype=\u001b[39m\u001b[39m'\u001b[39m\u001b[39mnumeric\u001b[39m\u001b[39m'\u001b[39m\u001b[39m is not compatible with arrays of bytes/strings.\u001b[39m\u001b[39m\"\u001b[39m\n\u001b[0;32m    912\u001b[0m         \u001b[39m\"\u001b[39m\u001b[39mConvert your data to numeric values explicitly instead.\u001b[39m\u001b[39m\"\u001b[39m\n\u001b[0;32m    913\u001b[0m     )\n",
      "\u001b[1;31mValueError\u001b[0m: Expected 2D array, got 1D array instead:\narray=[1.83056123e+02 5.07881635e+03 2.12648319e-02 1.69041588e+00\n 4.25465416e+01 5.19478835e+03].\nReshape your data either using array.reshape(-1, 1) if your data has a single feature or array.reshape(1, -1) if it contains a single sample."
     ]
    }
   ],
   "source": [
    "models_dict['RNA'].predict([1.83056123e+02, 5.07881635e+03, 2.12648319e-02, 1.69041588e+00,\n",
    "        4.25465416e+01, 5.19478835e+03])"
   ]
  }
 ],
 "metadata": {
  "kernelspec": {
   "display_name": "pibicvenv",
   "language": "python",
   "name": "python3"
  },
  "language_info": {
   "codemirror_mode": {
    "name": "ipython",
    "version": 3
   },
   "file_extension": ".py",
   "mimetype": "text/x-python",
   "name": "python",
   "nbconvert_exporter": "python",
   "pygments_lexer": "ipython3",
   "version": "3.8.10"
  },
  "orig_nbformat": 4,
  "vscode": {
   "interpreter": {
    "hash": "38b098bed1599b9fd0e2615143d92a3c4cbd52b6e6108decb7cba956487a4e99"
   }
  }
 },
 "nbformat": 4,
 "nbformat_minor": 2
}
